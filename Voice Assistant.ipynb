{
 "cells": [
  {
   "cell_type": "code",
   "execution_count": null,
   "id": "fee7c95d-bdbc-40ce-a1de-19ca71399c5b",
   "metadata": {},
   "outputs": [],
   "source": []
  }
 ],
 "metadata": {
  "kernelspec": {
   "display_name": "",
   "name": ""
  },
  "language_info": {
   "name": ""
  }
 },
 "nbformat": 4,
 "nbformat_minor": 5
}
